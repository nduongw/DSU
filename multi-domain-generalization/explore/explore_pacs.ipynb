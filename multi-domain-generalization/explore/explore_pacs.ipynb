{
 "cells": [
  {
   "cell_type": "code",
   "execution_count": 1,
   "metadata": {},
   "outputs": [],
   "source": [
    "import argparse\n",
    "import torch\n",
    "from numpy import dot\n",
    "from numpy.linalg import norm\n",
    "import wandb\n",
    "import numpy as np\n",
    "from dassl.utils import setup_logger, set_random_seed, collect_env_info\n",
    "from dassl.config import get_cfg_default\n",
    "from dassl.engine import build_trainer\n",
    "from sklearn.mixture import BayesianGaussianMixture\n",
    "from scipy.linalg import sqrtm\n",
    "from scipy.stats import chi2\n",
    "from scipy.spatial.distance import cdist"
   ]
  },
  {
   "cell_type": "code",
   "execution_count": 2,
   "metadata": {},
   "outputs": [],
   "source": [
    "def reset_cfg(cfg, args):\n",
    "    if args.root:\n",
    "        cfg.DATASET.ROOT = args.root\n",
    "\n",
    "    if args.output_dir:\n",
    "        cfg.OUTPUT_DIR = args.output_dir\n",
    "\n",
    "    if args.resume:\n",
    "        cfg.RESUME = args.resume\n",
    "\n",
    "    if args.seed:\n",
    "        cfg.SEED = args.seed\n",
    "\n",
    "    if args.source_domains:\n",
    "        cfg.DATASET.SOURCE_DOMAINS = args.source_domains\n",
    "\n",
    "    if args.target_domains:\n",
    "        cfg.DATASET.TARGET_DOMAINS = args.target_domains\n",
    "\n",
    "    if args.transforms:\n",
    "        cfg.INPUT.TRANSFORMS = args.transforms\n",
    "\n",
    "    if args.trainer:\n",
    "        cfg.TRAINER.NAME = args.trainer\n",
    "\n",
    "    if args.backbone:\n",
    "        cfg.MODEL.BACKBONE.NAME = args.backbone\n",
    "\n",
    "    if args.head:\n",
    "        cfg.MODEL.HEAD.NAME = args.head\n",
    "\n",
    "    #if args.uncertainty:\n",
    "    cfg.MODEL.UNCERTAINTY = args.uncertainty\n",
    "\n",
    "    #if args.pos:\n",
    "    cfg.MODEL.POS = args.pos\n",
    "    \n",
    "    cfg.TRAINER.CONSTSTYLE.TYPE = 'ver5'\n",
    "    \n",
    "def setup_cfg(args):\n",
    "    cfg = get_cfg_default()\n",
    "    reset_cfg(cfg, args)\n",
    "    if args.dataset_config_file:\n",
    "        cfg.merge_from_file(args.dataset_config_file)\n",
    "    if args.config_file:\n",
    "        cfg.merge_from_file(args.config_file)\n",
    "    cfg.merge_from_list(args.opts)\n",
    "    cfg.freeze()\n",
    "    return cfg"
   ]
  },
  {
   "cell_type": "code",
   "execution_count": 3,
   "metadata": {},
   "outputs": [],
   "source": [
    "parser = argparse.ArgumentParser()\n",
    "parser.add_argument('--root', type=str, default='./DATA', help='path to dataset')\n",
    "parser.add_argument(\n",
    "    '--output-dir', type=str, default='../output/dg/pacs/baseline/verify2/cartoon', help='output directory'\n",
    ")\n",
    "parser.add_argument(\n",
    "    '--resume',\n",
    "    type=str,\n",
    "    default='',\n",
    "    help='checkpoint directory (from which the training resumes)'\n",
    ")\n",
    "parser.add_argument(\n",
    "    '--seed',\n",
    "    type=int,\n",
    "    default=1,\n",
    "    help='only positive value enables a fixed seed'\n",
    ")\n",
    "parser.add_argument(\n",
    "    '--source-domains',\n",
    "    type=str,\n",
    "    nargs='+',\n",
    "    default='cartoon'.split(),\n",
    "    help='source domains for DA/DG'\n",
    ")\n",
    "parser.add_argument(\n",
    "    '--target-domains',\n",
    "    type=str,\n",
    "    nargs='+',\n",
    "    default=['sketch'],\n",
    "    help='target domains for DA/DG'\n",
    ")\n",
    "parser.add_argument(\n",
    "    '--transforms', type=str, nargs='+', help='data augmentation methods'\n",
    ")\n",
    "parser.add_argument(\n",
    "    '--config-file', type=str, default='../configs/trainers/dg/vanilla/pacs.yaml', help='path to config file'\n",
    ")\n",
    "parser.add_argument(\n",
    "    '--dataset-config-file',\n",
    "    type=str,\n",
    "    default='../configs/datasets/dg/pacs.yaml',\n",
    "    help='path to config file for dataset setup'\n",
    ")\n",
    "parser.add_argument(\n",
    "    '--trainer', type=str, default='Vanilla', help='name of trainer'\n",
    ")\n",
    "parser.add_argument(\n",
    "    '--backbone', type=str, default='', help='name of CNN backbone'\n",
    ")\n",
    "parser.add_argument('--head', type=str, default='', help='name of head')\n",
    "parser.add_argument(\n",
    "    '--eval-only', action='store_true', help='evaluation only'\n",
    ")\n",
    "parser.add_argument(\n",
    "    '--model-dir',\n",
    "    type=str,\n",
    "    default='',\n",
    "    help='load model from this directory for eval-only mode'\n",
    ")\n",
    "parser.add_argument(\n",
    "    '--load-epoch',\n",
    "    type=int,\n",
    "    help='load model weights at this epoch for evaluation'\n",
    ")\n",
    "parser.add_argument(\n",
    "    '--no-train', action='store_true', help='do not call trainer.train()'\n",
    ")\n",
    "parser.add_argument(\n",
    "    'opts',\n",
    "    default=None,\n",
    "    nargs=argparse.REMAINDER,\n",
    "    help='modify config options using the command-line'\n",
    ")\n",
    "parser.add_argument('--uncertainty', default=0.0, type=float)\n",
    "parser.add_argument('--pos', nargs='+', type=int, default=[],\n",
    "                    help='pos for uncertainty')\n",
    "parser.add_argument('--wandb', default=0, type=int, help='visualize on Wandb')\n",
    "parser.add_argument('--option', default='', type=str, help='additional options')\n",
    "parser.add_argument('--update_interval', default=20, type=int, help='update cluster interval')\n",
    "\n",
    "args = parser.parse_args('')"
   ]
  },
  {
   "cell_type": "code",
   "execution_count": 4,
   "metadata": {},
   "outputs": [
    {
     "name": "stdout",
     "output_type": "stream",
     "text": [
      "Setting fixed seed: 1\n",
      "Loading trainer: Vanilla\n",
      "<class 'dassl.engine.dg.vanilla.Vanilla'>\n",
      "Loading dataset: PACS\n",
      "Train dataset statistics| Domain [0 1] - count [2107 1499] | Class: [0 1 2 3 4 5 6] - count [520 592 474 288 470 510 752]\n",
      "Test dataset statistics| Domain [0] - count [2048] | Class: [0 1 2 3 4 5 6] - count [379 255 285 184 201 295 449]\n",
      "Building transform_train\n",
      "+ resize to 224x224\n",
      "+ random flip\n",
      "+ random translation\n",
      "+ to torch tensor of range [0, 1]\n",
      "+ normalization (mean=[0.485, 0.456, 0.406], std=[0.229, 0.224, 0.225])\n",
      "Building transform_test\n",
      "+ resize to 224x224\n",
      "+ to torch tensor of range [0, 1]\n",
      "+ normalization (mean=[0.485, 0.456, 0.406], std=[0.229, 0.224, 0.225])\n",
      "***** Dataset statistics *****\n",
      "  Dataset: PACS\n",
      "  Source domains: ['cartoon', 'photo']\n",
      "  Target domains: ['art_painting']\n",
      "  # classes: 7\n",
      "  # train_x: 3,606\n",
      "  # val: 408\n",
      "  # test: 2,048\n",
      "Building model\n",
      "Backbone: resnet18\n",
      "# params: 11,180,103\n",
      "Loading evaluator: Classification\n"
     ]
    }
   ],
   "source": [
    "cfg = setup_cfg(args)\n",
    "if args.wandb:\n",
    "    if 'u' in cfg.MODEL.BACKBONE.NAME:\n",
    "        job_type = 'DSU'\n",
    "    elif 'c' in cfg.MODEL.BACKBONE.NAME:\n",
    "        job_type = 'ConstStyle'\n",
    "    else:\n",
    "        job_type = 'Baseline'\n",
    "    if cfg.MODEL.BACKBONE.PRETRAINED:\n",
    "        job_type += '-pretrained'\n",
    "        \n",
    "    tracker = wandb.init(\n",
    "        project = 'StyleDG',\n",
    "        entity = 'aiotlab',\n",
    "        config = args,\n",
    "        group = f'{cfg.DATASET.NAME}',\n",
    "        name = f'train={cfg.DATASET.SOURCE_DOMAINS}_test={cfg.DATASET.TARGET_DOMAINS}_type={args.option}',\n",
    "        job_type = job_type\n",
    "    )\n",
    "    args.tracker = tracker\n",
    "\n",
    "if cfg.SEED >= 0:\n",
    "    print('Setting fixed seed: {}'.format(cfg.SEED))\n",
    "    set_random_seed(cfg.SEED)\n",
    "setup_logger(cfg.OUTPUT_DIR)\n",
    "\n",
    "if torch.cuda.is_available() and cfg.USE_CUDA:\n",
    "    torch.backends.cudnn.benchmark = False\n",
    "    torch.backends.cudnn.deterministic = True\n",
    "\n",
    "trainer = build_trainer(cfg, args)\n",
    "# device = torch.device('cpu')\n",
    "# trainer.model.backbone.to(device)"
   ]
  },
  {
   "cell_type": "code",
   "execution_count": 5,
   "metadata": {},
   "outputs": [
    {
     "name": "stdout",
     "output_type": "stream",
     "text": [
      "Loading weights to model from \"../output/dg/pacs/baseline/verify2/cartoon_photo/model/model.pth.tar-100\" (epoch = 100)\n"
     ]
    }
   ],
   "source": [
    "trainer.load_model(cfg.OUTPUT_DIR, epoch=100)"
   ]
  },
  {
   "cell_type": "code",
   "execution_count": 6,
   "metadata": {},
   "outputs": [],
   "source": [
    "train_loader = trainer.train_loader_x\n",
    "test_loader = trainer.test_loader"
   ]
  },
  {
   "cell_type": "code",
   "execution_count": 7,
   "metadata": {},
   "outputs": [],
   "source": [
    "# id_mean = []\n",
    "# id_std = []\n",
    "# id_domains = []\n",
    "# id_labels = []\n",
    "# id_feats = []\n",
    "# train_loader_x = trainer.train_loader_x\n",
    "# for idx, batch in enumerate(train_loader_x):\n",
    "#     images, label = trainer.parse_batch_train(batch)\n",
    "#     domain = batch['domain']\n",
    "#     style_feat = trainer.model.backbone.stylemaps(images, domain, store_feature=True, apply_conststyle=True)\n",
    "#     class_feat = trainer.model.backbone.featuremaps(images, domain, store_feature=True, apply_conststyle=True)\n",
    "#     style_feat = style_feat.detach().cpu().numpy()\n",
    "#     mean = np.mean(style_feat, axis=(2, 3))\n",
    "#     std = np.std(style_feat, axis=(2, 3))\n",
    "#     id_mean.extend(mean)\n",
    "#     id_std.extend(std)\n",
    "#     id_domains.extend(domain.numpy())\n",
    "#     id_labels.extend(label.detach().cpu().numpy())\n",
    "#     id_feats.extend(class_feat.detach().cpu().numpy())\n",
    "# total_id_feats = len(id_domains)"
   ]
  },
  {
   "cell_type": "code",
   "execution_count": 8,
   "metadata": {},
   "outputs": [],
   "source": [
    "id_mean = []\n",
    "id_std = []\n",
    "id_domains = []\n",
    "id_labels = []\n",
    "id_feats = []\n",
    "train_loader_x = trainer.train_loader_x\n",
    "for idx, batch in enumerate(train_loader_x):\n",
    "    images, label = trainer.parse_batch_train(batch)\n",
    "    domain = batch['domain']\n",
    "    style_feat = trainer.model.backbone.stylemaps(images)\n",
    "    class_feat = trainer.model.backbone.featuremaps(images)\n",
    "    style_feat = style_feat.detach().cpu().numpy()\n",
    "    mean = np.mean(style_feat, axis=(2, 3))\n",
    "    std = np.std(style_feat, axis=(2, 3))\n",
    "    id_mean.extend(mean)\n",
    "    id_std.extend(std)\n",
    "    id_domains.extend(domain.numpy())\n",
    "    id_labels.extend(label.detach().cpu().numpy())\n",
    "    id_feats.extend(class_feat.detach().cpu().numpy())\n",
    "total_id_feats = len(id_domains)"
   ]
  },
  {
   "cell_type": "code",
   "execution_count": 9,
   "metadata": {},
   "outputs": [],
   "source": [
    "# od_mean = []\n",
    "# od_std = []\n",
    "# od_domains = []\n",
    "# od_labels = []\n",
    "# od_feats = []\n",
    "# test_loader = trainer.test_loader\n",
    "# for idx, batch in enumerate(test_loader):\n",
    "#     images, label, domain = trainer.parse_batch_train(batch)\n",
    "#     od_domains.extend([3 for i in range(len(label))])\n",
    "#     style_feat = trainer.model.backbone.stylemaps(images, domain, store_feature=True, apply_conststyle=True, is_test=True)\n",
    "#     class_feat = trainer.model.backbone.featuremaps(images, domain, store_feature=True, apply_conststyle=True, is_test=True)\n",
    "#     style_feat = style_feat.detach().cpu().numpy()\n",
    "#     mean = np.mean(style_feat, axis=(2, 3))\n",
    "#     std = np.std(style_feat, axis=(2, 3))\n",
    "#     od_mean.extend(mean)\n",
    "#     od_std.extend(std)\n",
    "#     od_labels.extend(label.detach().cpu().numpy())\n",
    "#     od_feats.extend(class_feat.detach().cpu().numpy())\n",
    "# total_od_feats = len(od_domains)"
   ]
  },
  {
   "cell_type": "code",
   "execution_count": 10,
   "metadata": {},
   "outputs": [],
   "source": [
    "od_mean = []\n",
    "od_std = []\n",
    "od_domains = []\n",
    "od_labels = []\n",
    "od_feats = []\n",
    "test_loader = trainer.test_loader\n",
    "for idx, batch in enumerate(test_loader):\n",
    "    images, label = trainer.parse_batch_test(batch)\n",
    "    style_feat = trainer.model.backbone.stylemaps(images)\n",
    "    class_feat = trainer.model.backbone.featuremaps(images)\n",
    "    style_feat = style_feat.detach().cpu().numpy()\n",
    "    mean = np.mean(style_feat, axis=(2, 3))\n",
    "    std = np.std(style_feat, axis=(2, 3))\n",
    "    od_mean.extend(mean)\n",
    "    od_std.extend(std)\n",
    "    od_domains.extend([3 for i in range(len(label))])\n",
    "    od_labels.extend(label.detach().cpu().numpy())\n",
    "    od_feats.extend(class_feat.detach().cpu().numpy())\n",
    "total_od_feats = len(od_domains)\n",
    "\n",
    "# for idx, conststyle in enumerate(trainer.model.backbone.conststyle):\n",
    "#     if idx == 3:\n",
    "#         od_mean.extend(conststyle.mean)\n",
    "#         od_std.extend(conststyle.std)"
   ]
  },
  {
   "cell_type": "code",
   "execution_count": 11,
   "metadata": {},
   "outputs": [],
   "source": [
    "id_domains = np.array(id_domains)\n",
    "od_domains = np.array(od_domains)\n",
    "total_domains = np.hstack((id_domains, od_domains))\n",
    "id_labels = np.array(id_labels)\n",
    "od_labels = np.array(od_labels)\n",
    "total_labels = np.hstack((id_labels, od_labels))"
   ]
  },
  {
   "cell_type": "code",
   "execution_count": 12,
   "metadata": {},
   "outputs": [],
   "source": [
    "od_mean = np.array(od_mean)\n",
    "od_std = np.array(od_std)\n",
    "id_mean = np.array(id_mean)\n",
    "id_std = np.array(id_std)\n",
    "id_feats = np.array(id_feats)\n",
    "od_feats = np.array(od_feats)\n",
    "total_feats = np.vstack((id_feats, od_feats))\n",
    "total_mean = np.vstack((id_mean, od_mean))\n",
    "total_std = np.vstack((id_std, od_std))"
   ]
  },
  {
   "cell_type": "code",
   "execution_count": 13,
   "metadata": {},
   "outputs": [],
   "source": [
    "feats_mean = np.mean(total_feats, axis=(2, 3))\n",
    "feats_std = np.std(total_feats, axis=(2, 3))"
   ]
  },
  {
   "cell_type": "code",
   "execution_count": 14,
   "metadata": {},
   "outputs": [],
   "source": [
    "import matplotlib.pyplot as plt\n",
    "from sklearn.manifold import TSNE "
   ]
  },
  {
   "cell_type": "code",
   "execution_count": 15,
   "metadata": {},
   "outputs": [],
   "source": [
    "# stacked_data = np.hstack((id_mean, id_std))\n",
    "# bayes_cluster = BayesianGaussianMixture(n_components=10, covariance_type='full', max_iter=200)\n",
    "# bayes_cluster.fit(stacked_data)"
   ]
  },
  {
   "cell_type": "code",
   "execution_count": 16,
   "metadata": {},
   "outputs": [],
   "source": [
    "# predicted_labels = bayes_cluster.predict(stacked_data)"
   ]
  },
  {
   "cell_type": "code",
   "execution_count": 17,
   "metadata": {},
   "outputs": [],
   "source": [
    "tsne_data = np.hstack((total_mean, total_std))\n",
    "tsne = TSNE(n_components=2)\n",
    "transformed_data = tsne.fit_transform(tsne_data)"
   ]
  },
  {
   "cell_type": "code",
   "execution_count": 18,
   "metadata": {},
   "outputs": [
    {
     "name": "stderr",
     "output_type": "stream",
     "text": [
      "/tmp/ipykernel_2470835/3335614416.py:3: UserWarning: Mismatched number of handles and labels: len(handles) = 3 len(labels) = 4\n",
      "  plt.legend(handles=scatter.legend_elements()[0], labels=classes)\n"
     ]
    },
    {
     "data": {
      "image/png": "[encoded data removed]",
      "text/plain": [
       "<Figure size 640x480 with 1 Axes>"
      ]
     },
     "metadata": {},
     "output_type": "display_data"
    }
   ],
   "source": [
    "classes = ['domain 1', 'domain 2', 'domain 3', 'out-domain']\n",
    "scatter = plt.scatter(transformed_data[:, 0], transformed_data[:, 1], c=total_domains)\n",
    "plt.legend(handles=scatter.legend_elements()[0], labels=classes)\n",
    "plt.title('Train features w domain notation')\n",
    "plt.xlabel('Mean')\n",
    "plt.ylabel('Std')\n",
    "plt.show()"
   ]
  },
  {
   "cell_type": "code",
   "execution_count": 19,
   "metadata": {},
   "outputs": [
    {
     "data": {
      "text/plain": [
       "array([1, 0, 0, ..., 3, 3, 3])"
      ]
     },
     "execution_count": 19,
     "metadata": {},
     "output_type": "execute_result"
    }
   ],
   "source": [
    "total_domains"
   ]
  },
  {
   "cell_type": "code",
   "execution_count": 20,
   "metadata": {},
   "outputs": [],
   "source": [
    "domain_mean, domain_cov = [], []\n",
    "for i in [0, 1, 3]:\n",
    "    selected_feats = tsne_data[total_domains == i]\n",
    "    bayes_cluster = BayesianGaussianMixture(n_components=1, covariance_type='full', max_iter=200)\n",
    "    bayes_cluster.fit(selected_feats)\n",
    "    domain_mean.append(bayes_cluster.means_[0])\n",
    "    domain_cov.append(bayes_cluster.covariances_[0])"
   ]
  },
  {
   "cell_type": "code",
   "execution_count": 21,
   "metadata": {},
   "outputs": [],
   "source": [
    "# cluster_mean = np.mean([domain_mean[i] for i in range(3)], axis=0)\n",
    "# cluster_cov = np.mean([domain_cov[i] for i in range(3)], axis=0)"
   ]
  },
  {
   "cell_type": "code",
   "execution_count": 22,
   "metadata": {},
   "outputs": [],
   "source": [
    "def wasserstein_distance_multivariate(mean1, cov1, mean2, cov2):\n",
    "    mean_diff = mean1 - mean2\n",
    "    mean_distance = np.dot(mean_diff, mean_diff)\n",
    "    sqrt_cov1 = sqrtm(cov1)\n",
    "    if np.iscomplexobj(sqrt_cov1):\n",
    "        sqrt_cov1 = sqrt_cov1.real\n",
    "    # Compute the term involving the covariance matrices\n",
    "    cov_sqrt_product = sqrtm(sqrt_cov1 @ cov2 @ sqrt_cov1)\n",
    "    if np.iscomplexobj(cov_sqrt_product):\n",
    "        cov_sqrt_product = cov_sqrt_product.real\n",
    "\n",
    "    cov_term = np.trace(cov1 + cov2 - 2 * cov_sqrt_product)\n",
    "    wasserstein_distance = np.sqrt(mean_distance + cov_term)\n",
    "    return wasserstein_distance\n",
    "\n",
    "def mahalanobis_distance(point, mean, cov):\n",
    "    inv_cov_matrix = np.linalg.inv(cov)\n",
    "    diff = point - mean\n",
    "    distance = np.sqrt(np.dot(np.dot(diff, inv_cov_matrix), diff.T))\n",
    "    if len(distance.shape) > 0:  # Check if distance is an array\n",
    "        distance = np.diagonal(distance)\n",
    "    \n",
    "    return distance"
   ]
  },
  {
   "cell_type": "code",
   "execution_count": 23,
   "metadata": {},
   "outputs": [
    {
     "data": {
      "text/plain": [
       "1.5394043359248095"
      ]
     },
     "execution_count": 23,
     "metadata": {},
     "output_type": "execute_result"
    }
   ],
   "source": [
    "total_distance = 0.0\n",
    "for i in [0, 1]:\n",
    "    distance = wasserstein_distance_multivariate(domain_mean[i], domain_cov[i], domain_mean[2], domain_cov[2])\n",
    "    total_distance += distance\n",
    "\n",
    "total_distance"
   ]
  },
  {
   "cell_type": "code",
   "execution_count": 24,
   "metadata": {},
   "outputs": [],
   "source": [
    "# for i in range(4):\n",
    "#     total_distance = 0.0\n",
    "#     for j in range(4):\n",
    "#         if i != j:\n",
    "#             distance = wasserstein_distance_multivariate(domain_mean[j], domain_cov[j], domain_mean[i], domain_cov[i])\n",
    "#             total_distance += distance\n",
    "#             print(f'Distance from domain {i} to domain {j} is {distance}')"
   ]
  },
  {
   "cell_type": "code",
   "execution_count": 25,
   "metadata": {},
   "outputs": [],
   "source": [
    "# total_distance = 0.0\n",
    "# for j in range(3):\n",
    "#         distance = wasserstein_distance_multivariate(domain_mean[j], domain_cov[j], cluster_mean, cluster_cov)\n",
    "#         total_distance += distance\n",
    "# print(f'Distance to target domain is {total_distance}')"
   ]
  },
  {
   "cell_type": "code",
   "execution_count": 26,
   "metadata": {},
   "outputs": [],
   "source": [
    "# selected_feats = tsne_data[total_domains == 2]\n",
    "# inv_cov = np.linalg.inv(cluster_cov)\n",
    "# # distance = cdist(selected_feats, [cluster_mean], metric='mahalanobis', VI=inv_cov)\n",
    "# print('Euclidean distance')\n",
    "# distance = cdist(selected_feats, [cluster_mean], metric='euclidean')"
   ]
  },
  {
   "cell_type": "code",
   "execution_count": 27,
   "metadata": {},
   "outputs": [],
   "source": [
    "# np.mean(distance), np.std(distance), np.max(distance), np.min(distance)"
   ]
  }
 ],
 "metadata": {
  "kernelspec": {
   "display_name": "ndg2",
   "language": "python",
   "name": "python3"
  },
  "language_info": {
   "codemirror_mode": {
    "name": "ipython",
    "version": 3
   },
   "file_extension": ".py",
   "mimetype": "text/x-python",
   "name": "python",
   "nbconvert_exporter": "python",
   "pygments_lexer": "ipython3",
   "version": "3.9.18"
  },
  "orig_nbformat": 4,
  "vscode": {
   "interpreter": {
    "hash": "c0c3e3ff5c37cec4a7f62ed0c552ad5ff09d02fdad4d0e1368ff69987b713b51"
   }
  }
 },
 "nbformat": 4,
 "nbformat_minor": 2
}
