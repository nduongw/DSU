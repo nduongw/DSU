{
 "cells": [
  {
   "cell_type": "code",
   "execution_count": 1,
   "metadata": {},
   "outputs": [],
   "source": [
    "# from pytorch_grad_cam import GradCAM, HiResCAM, ScoreCAM, GradCAMPlusPlus, AblationCAM, XGradCAM, EigenCAM, FullGrad\n",
    "# from pytorch_grad_cam.utils.model_targets import ClassifierOutputTarget\n",
    "# from pytorch_grad_cam.utils.image import show_cam_on_image\n",
    "from torchvision.models import resnet50\n",
    "import numpy as np\n",
    "import os\n",
    "from PIL import Image\n",
    "import matplotlib.pyplot as plt"
   ]
  },
  {
   "cell_type": "code",
   "execution_count": 3,
   "metadata": {},
   "outputs": [],
   "source": [
    "c_types = [\n",
    "    'brightness', 'contrast', 'defocus_blur', 'elastic_transform', 'fog',\n",
    "    'frost', 'gaussian_blur', 'gaussian_noise', 'glass_blur', 'impulse_noise',\n",
    "    'jpeg_compression', 'motion_blur', 'pixelate', 'saturate', 'shot_noise',\n",
    "    'snow', 'spatter', 'speckle_noise', 'zoom_blur'\n",
    "]\n",
    "labels = np.load('CIFAR-10-C/labels.npy')"
   ]
  },
  {
   "cell_type": "code",
   "execution_count": 5,
   "metadata": {},
   "outputs": [],
   "source": [
    "for c_type in c_types:\n",
    "    dataset = np.load(f'CIFAR-10-C/{c_type}.npy')\n",
    "    c_level = 0\n",
    "    for idx, ele in enumerate(dataset):\n",
    "        if idx % 10000 == 0:\n",
    "            c_level += 1\n",
    "        label = labels[idx]\n",
    "        path = f'CIFAR-10-C/{c_type}/{c_level}/{label}'\n",
    "        os.makedirs(path, exist_ok=True)\n",
    "        im = Image.fromarray(ele)\n",
    "        if idx < 10:\n",
    "            im.save(f'{path}/00000{idx+1}.jpg')\n",
    "        elif idx > 10 and idx + 1 < 100:\n",
    "            im.save(f'{path}/0000{idx+1}.jpg')\n",
    "        elif idx > 100 and idx + 1 < 1000:\n",
    "            im.save(f'{path}/000{idx+1}.jpg')\n",
    "        elif idx > 1000 and idx + 1 < 10000:\n",
    "            im.save(f'{path}/00{idx+1}.jpg')\n",
    "        elif idx > 10000:\n",
    "            im.save(f'{path}/0{idx+1}.jpg') "
   ]
  }
 ],
 "metadata": {
  "kernelspec": {
   "display_name": "ndg",
   "language": "python",
   "name": "python3"
  },
  "language_info": {
   "codemirror_mode": {
    "name": "ipython",
    "version": 3
   },
   "file_extension": ".py",
   "mimetype": "text/x-python",
   "name": "python",
   "nbconvert_exporter": "python",
   "pygments_lexer": "ipython3",
   "version": "3.9.18"
  }
 },
 "nbformat": 4,
 "nbformat_minor": 2
}
