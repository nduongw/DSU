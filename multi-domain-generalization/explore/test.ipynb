{
 "cells": [
  {
   "cell_type": "code",
   "execution_count": 3,
   "metadata": {},
   "outputs": [
    {
     "name": "stdout",
     "output_type": "stream",
     "text": [
      "Files already downloaded and verified\n",
      "Files already downloaded and verified\n"
     ]
    }
   ],
   "source": [
    "import torch\n",
    "import torchvision\n",
    "import torchvision.transforms as transforms\n",
    "import os\n",
    "from PIL import Image\n",
    "from torch.utils.data import ConcatDataset\n",
    "\n",
    "# Define transformations to convert the images to tensor and normalize them\n",
    "transform = transforms.Compose([transforms.ToTensor()])\n",
    "\n",
    "# Download and load the CIFAR-10 dataset\n",
    "trainset = torchvision.datasets.CIFAR10(root='./data', train=True, download=True, transform=transform)\n",
    "testset = torchvision.datasets.CIFAR10(root='./data', train=False, download=True, transform=transform)\n",
    "\n",
    "# Define class names\n",
    "class_names = trainset.classes\n",
    "\n",
    "# Create a base directory to store the images\n",
    "base_dir = 'cifar10_images/train'\n",
    "os.makedirs(base_dir, exist_ok=True)"
   ]
  },
  {
   "cell_type": "code",
   "execution_count": 4,
   "metadata": {},
   "outputs": [],
   "source": [
    "# Create a directory for each class\n",
    "for i in range(len(class_names)):\n",
    "    class_dir = os.path.join(base_dir, str(i))\n",
    "    os.makedirs(class_dir, exist_ok=True)"
   ]
  },
  {
   "cell_type": "code",
   "execution_count": 5,
   "metadata": {},
   "outputs": [],
   "source": [
    "combined_dataset = ConcatDataset([trainset, testset])"
   ]
  },
  {
   "cell_type": "code",
   "execution_count": 6,
   "metadata": {},
   "outputs": [],
   "source": [
    "def save_images(dataset):\n",
    "    for i in range(len(dataset)):\n",
    "        img, label = dataset[i]\n",
    "        class_dir = os.path.join(base_dir, str(label))\n",
    "        if i < 10:\n",
    "            image_path = os.path.join(class_dir, f\"00000{i+1}.jpg\")\n",
    "        elif i > 10 and i + 1 < 100:\n",
    "            image_path = os.path.join(class_dir, f\"0000{i+1}.jpg\")\n",
    "        elif i > 100 and i + 1 < 1000:\n",
    "            image_path = os.path.join(class_dir, f\"000{i+1}.jpg\")\n",
    "        elif i > 1000 and i + 1 < 10000:\n",
    "            image_path = os.path.join(class_dir, f\"00{i+1}.jpg\")\n",
    "        elif i > 10000:\n",
    "            image_path = os.path.join(class_dir, f\"0{i+1}.jpg\") \n",
    "        img = transforms.ToPILImage()(img)\n",
    "        img.save(image_path)"
   ]
  },
  {
   "cell_type": "code",
   "execution_count": 7,
   "metadata": {},
   "outputs": [],
   "source": [
    "save_images(trainset)"
   ]
  }
 ],
 "metadata": {
  "kernelspec": {
   "display_name": "ndg2",
   "language": "python",
   "name": "python3"
  },
  "language_info": {
   "codemirror_mode": {
    "name": "ipython",
    "version": 3
   },
   "file_extension": ".py",
   "mimetype": "text/x-python",
   "name": "python",
   "nbconvert_exporter": "python",
   "pygments_lexer": "ipython3",
   "version": "3.9.18"
  }
 },
 "nbformat": 4,
 "nbformat_minor": 2
}
